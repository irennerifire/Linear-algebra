{
 "cells": [
  {
   "cell_type": "markdown",
   "metadata": {},
   "source": [
    "1. Найти скалярное произведение векторов  x,y∈R :\n",
    "а)  x=(0,−3,6), y=(−4,7,9); \n"
   ]
  },
  {
   "cell_type": "code",
   "execution_count": 2,
   "metadata": {},
   "outputs": [],
   "source": [
    "import numpy as np"
   ]
  },
  {
   "cell_type": "code",
   "execution_count": 4,
   "metadata": {},
   "outputs": [
    {
     "name": "stdout",
     "output_type": "stream",
     "text": [
      "Скалярное произведение векторов равно:   33\n"
     ]
    }
   ],
   "source": [
    "x = np.array([0, -3, 6])\n",
    "y = np.array([-4, 7, 9])\n",
    "prod1 = np.dot(x, y)\n",
    "print(f'Скалярное произведение векторов равно:   {prod1}')"
   ]
  },
  {
   "cell_type": "markdown",
   "metadata": {},
   "source": [
    "б)  x=(7,−4,0,1), y=(−3,1,11,2)."
   ]
  },
  {
   "cell_type": "code",
   "execution_count": 5,
   "metadata": {},
   "outputs": [
    {
     "name": "stdout",
     "output_type": "stream",
     "text": [
      "Скалярное произведение векторов равно:   -23\n"
     ]
    }
   ],
   "source": [
    "x = np.array([7, -4, 0, 1])\n",
    "y = np.array([-3, 1, 11, 2])\n",
    "prod2 = np.dot(x, y)\n",
    "print(f'Скалярное произведение векторов равно:   {prod2}')"
   ]
  },
  {
   "cell_type": "markdown",
   "metadata": {},
   "source": [
    "2. Найти нормы векторов  (4,2,4)  и  (12,3,4)  и угол между ними."
   ]
  },
  {
   "cell_type": "code",
   "execution_count": 6,
   "metadata": {},
   "outputs": [],
   "source": [
    "from numpy.linalg import norm"
   ]
  },
  {
   "cell_type": "code",
   "execution_count": 9,
   "metadata": {},
   "outputs": [
    {
     "name": "stdout",
     "output_type": "stream",
     "text": [
      "Манхэттенская норма вектора a при p=1:  10.0\n",
      "Манхэттенская норма вектора b при p=1:  19.0\n",
      "Евклидова норма вектора a при p=2:  6.0\n",
      "Евклидова норма вектора b при p=2:  13.0\n"
     ]
    }
   ],
   "source": [
    "a = np.array([4, 2, 4])\n",
    "b = np.array([12, 3, 4])\n",
    "print(f'Манхэттенская норма вектора a при p=1:  {norm(a, ord=1)}')\n",
    "print(f'Манхэттенская норма вектора b при p=1:  {norm(b, ord=1)}')\n",
    "print(f'Евклидова норма вектора a при p=2:  {norm(a, ord=2)}')\n",
    "print(f'Евклидова норма вектора b при p=2:  {norm(b, ord=2)}')"
   ]
  },
  {
   "cell_type": "code",
   "execution_count": 10,
   "metadata": {},
   "outputs": [
    {
     "name": "stdout",
     "output_type": "stream",
     "text": [
      "Косинус угла между a и b: 0.8974358974358974\n",
      "Угол между a и b: 0.4568740035326613\n"
     ]
    }
   ],
   "source": [
    "cos = np.dot(a, b) / norm(a, ord=2) / norm(b, ord=2)\n",
    "print(f'Косинус угла между a и b: {cos}')\n",
    "print(f'Угол между a и b: {np.arccos(cos)}')"
   ]
  },
  {
   "cell_type": "markdown",
   "metadata": {},
   "source": [
    "3. Будет ли линейное пространство евклидовым, если за скалярное произведение принять:\n",
    "а) произведение длин векторов;\n",
    "б) утроенное обычное скалярное произведение векторов?"
   ]
  },
  {
   "cell_type": "raw",
   "metadata": {},
   "source": [
    "Будет, в а). Произведение длин векторов будет удовлетворять всем аксиомам (похоже на евклидову метрику).\n",
    "В б) будет удовлетворять только если поставить ограничение на косинус угла - он должен быть >= 0 (длины векторов буду положительными)."
   ]
  },
  {
   "cell_type": "markdown",
   "metadata": {},
   "source": [
    "Какие из нижеперечисленных векторов образуют ортонормированный базис в линейном пространстве  R3 :\n",
    "а)  (1,0,0),(0,0,1); \n",
    "б)  (1/2–√,−1/2–√,0),(1/2–√,1/2–√,0),(0,0,1); \n",
    "в)  (1/2,−1/2,0),(0,1/2,1/2),(0,0,1); \n",
    "г)  (1,0,0),(0,1,0),(0,0,1)?"
   ]
  },
  {
   "cell_type": "raw",
   "metadata": {},
   "source": [
    "пока не разобралась с этим.."
   ]
  }
 ],
 "metadata": {
  "kernelspec": {
   "display_name": "Python 3",
   "language": "python",
   "name": "python3"
  },
  "language_info": {
   "codemirror_mode": {
    "name": "ipython",
    "version": 3
   },
   "file_extension": ".py",
   "mimetype": "text/x-python",
   "name": "python",
   "nbconvert_exporter": "python",
   "pygments_lexer": "ipython3",
   "version": "3.7.1"
  }
 },
 "nbformat": 4,
 "nbformat_minor": 2
}
